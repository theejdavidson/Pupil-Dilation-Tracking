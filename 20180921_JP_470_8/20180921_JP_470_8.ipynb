{
 "cells": [
  {
   "cell_type": "code",
   "execution_count": 169,
   "metadata": {
    "collapsed": true
   },
   "outputs": [],
   "source": [
    "import PIL.Image as Image\n",
    "import imageio\n",
    "import pylab as py\n",
    "%matplotlib inline\n",
    "import numpy as np\n",
    "import csv\n",
    "import warnings\n",
    "from numpy.linalg import eig, inv"
   ]
  },
  {
   "cell_type": "code",
   "execution_count": 170,
   "metadata": {
    "collapsed": true
   },
   "outputs": [],
   "source": [
    "csv_file = '20180921_JP_470_8.csv'\n",
    "#threshold = 40\n",
    "input_frame = '20180921_JP_470_8/frame{:d}.jpg'\n",
    "output_frame = '20180921_JP_470_8_circles/frame{:d}.jpg'\n",
    "test_frame = '20180921_JP_470_8/frame1.jpg'\n",
    "first_frame = '20180921_JP_470_8/frame1.jpg'\n",
    "n_frame = 2881\n",
    "estimate_center = np.array([600,600])\n",
    "estimate_radius = 300"
   ]
  },
  {
   "cell_type": "code",
   "execution_count": 171,
   "metadata": {
    "collapsed": true
   },
   "outputs": [],
   "source": [
    "def createLineIterator(P1, P2, img):\n",
    "    \"\"\"\n",
    "    Produces and array that consists of the coordinates and intensities of each pixel in a line between two points\n",
    "\n",
    "    Parameters:\n",
    "        -P1: a numpy array that consists of the coordinate of the first point (x,y)\n",
    "        -P2: a numpy array that consists of the coordinate of the second point (x,y)\n",
    "        -img: the image being processed\n",
    "\n",
    "    Returns:\n",
    "        -it: a numpy array that consists of the coordinates and intensities of each pixel in the radii (shape: [numPixels, 3], row = [x,y,intensity])   \n",
    "        \n",
    "    Source code: https://stackoverflow.com/questions/32328179/opencv-3-0-python-lineiterator\n",
    "    \"\"\"\n",
    "    #define local variables for readability\n",
    "    imageH = img.shape[0]\n",
    "    imageW = img.shape[1]\n",
    "    P1X = P1[0]\n",
    "    P1Y = P1[1]\n",
    "    P2X = P2[0]\n",
    "    P2Y = P2[1]\n",
    "\n",
    "    #difference and absolute difference between points\n",
    "    #used to calculate slope and relative location between points\n",
    "    dX = P2X - P1X\n",
    "    dY = P2Y - P1Y\n",
    "    dXa = np.abs(dX)\n",
    "    dYa = np.abs(dY)\n",
    "\n",
    "    #predefine numpy array for output based on distance between points\n",
    "    itbuffer = np.empty(shape=(np.maximum(dYa,dXa),3),dtype=np.float32)\n",
    "    itbuffer.fill(np.nan)\n",
    "\n",
    "    #Obtain coordinates along the line using a form of Bresenham's algorithm\n",
    "    negY = P1Y > P2Y\n",
    "    negX = P1X > P2X\n",
    "    if P1X == P2X: #vertical line segment\n",
    "        itbuffer[:,0] = P1X\n",
    "        if negY:\n",
    "            itbuffer[:,1] = np.arange(P1Y - 1,P1Y - dYa - 1,-1)\n",
    "        else:\n",
    "            itbuffer[:,1] = np.arange(P1Y+1,P1Y+dYa+1)              \n",
    "    elif P1Y == P2Y: #horizontal line segment\n",
    "        itbuffer[:,1] = P1Y\n",
    "        if negX:\n",
    "            itbuffer[:,0] = np.arange(P1X-1,P1X-dXa-1,-1)\n",
    "        else:\n",
    "            itbuffer[:,0] = np.arange(P1X+1,P1X+dXa+1)\n",
    "    else: #diagonal line segment\n",
    "        steepSlope = dYa > dXa\n",
    "        if steepSlope:\n",
    "            slope = dX.astype(np.float32)/dY.astype(np.float32)\n",
    "            if negY:\n",
    "                itbuffer[:,1] = np.arange(P1Y-1,P1Y-dYa-1,-1)\n",
    "            else:\n",
    "                itbuffer[:,1] = np.arange(P1Y+1,P1Y+dYa+1)\n",
    "            itbuffer[:,0] = (slope*(itbuffer[:,1]-P1Y)).astype(np.int) + P1X\n",
    "        else:\n",
    "            slope = dY.astype(np.float32)/dX.astype(np.float32)\n",
    "            if negX:\n",
    "                itbuffer[:,0] = np.arange(P1X-1,P1X-dXa-1,-1)\n",
    "            else:\n",
    "                itbuffer[:,0] = np.arange(P1X+1,P1X+dXa+1)\n",
    "            itbuffer[:,1] = (slope*(itbuffer[:,0]-P1X)).astype(np.int) + P1Y\n",
    "\n",
    "    #Remove points outside of image\n",
    "    colX = itbuffer[:,0]\n",
    "    colY = itbuffer[:,1]\n",
    "    itbuffer = itbuffer[(colX >= 0) & (colY >=0) & (colX<imageW) & (colY<imageH)]\n",
    "\n",
    "    #Get intensities from img ndarray\n",
    "    itbuffer[:,2] = img[itbuffer[:,1].astype(np.uint),itbuffer[:,0].astype(np.uint)]\n",
    "\n",
    "    return itbuffer"
   ]
  },
  {
   "cell_type": "code",
   "execution_count": 172,
   "metadata": {
    "collapsed": true
   },
   "outputs": [],
   "source": [
    "'''Idea from: https://stackoverflow.com/questions/45922566/ellipse-fitting-for-pupil-center'''\n",
    "\n",
    "def find_edge_points(center, radius, img, d_theta = np.pi/180 ):\n",
    "#    r = 2 * radius\n",
    "    r = 500\n",
    "    points = []\n",
    "    \n",
    "    for theta in np.arange(0, 2*np.pi, d_theta):\n",
    "        end_point_x = (center[0] + r*np.cos(theta)).astype(np.int)\n",
    "        end_point_y = (center[1] + r*np.sin(theta)).astype(np.int)\n",
    "        end_point = np.array([end_point_x,end_point_y])\n",
    "        result = createLineIterator(center, end_point, img)\n",
    "\n",
    "        '''need to twiddle more to find a better way to find the edge points'''\n",
    "#        diff = []\n",
    "#        sum_lum = []\n",
    "#        for i in range(1,len(result)):\n",
    "#            diff.append(result[i][2] - result[i-1][2])\n",
    "#        for i in range(len(diff)):    \n",
    "#            sum_lum.append(sum(diff[:i]))\n",
    "        #print(sum_lum)\n",
    "#        for i in range(2,len(sum_lum)):\n",
    "#            if sum_lum[i] > 3 * sum_lum[i-1] and sum_lum[i-1] > 3 * sum_lum[i-2] and sum_lum[i-1] > 0:\n",
    "#                points.append((result[i][0],result[i][1]))\n",
    "#                break\n",
    "\n",
    "        edge_detected = False\n",
    "        glare_detected = False\n",
    "        \n",
    "        for i in range(len(result)):\n",
    "            \n",
    "            if result[i][2] == 255:\n",
    "                edge_detected = True\n",
    "                \n",
    "            if edge_detected:\n",
    "                for j in range(i,len(result)-i):\n",
    "                    if result[j][2] == 0:\n",
    "                        glare_detected = True\n",
    "                        break\n",
    "            if edge_detected and not glare_detected:\n",
    "                points.append((result[i][0],result[i][1]))\n",
    "                break\n",
    "    return points\n",
    "\n",
    "'''http://nicky.vanforeest.com/misc/fitEllipse/fitEllipse.html'''\n",
    "\n",
    "def fitEllipse(x,y):\n",
    "    x = x[:,np.newaxis]\n",
    "    y = y[:,np.newaxis]\n",
    "    D =  np.hstack((x*x, x*y, y*y, x, y, np.ones_like(x)))\n",
    "    S = np.dot(D.T,D)\n",
    "    C = np.zeros([6,6])\n",
    "    C[0,2] = C[2,0] = 2; C[1,1] = -1\n",
    "    E, V =  eig(np.dot(inv(S), C))\n",
    "    n = np.argmax(np.abs(E))\n",
    "    a = V[:,n]\n",
    "    return a\n",
    "\n",
    "def ellipse_center(a):\n",
    "    b,c,d,f,g,a = a[1]/2, a[2], a[3]/2, a[4]/2, a[5], a[0]\n",
    "    num = b*b-a*c\n",
    "    x0=(c*d-b*f)/num\n",
    "    y0=(a*f-b*d)/num\n",
    "    return np.array([x0,y0])\n",
    "\n",
    "\n",
    "def ellipse_angle_of_rotation( a ):\n",
    "    b,c,d,f,g,a = a[1]/2, a[2], a[3]/2, a[4]/2, a[5], a[0]\n",
    "    return 0.5*np.arctan(2*b/(a-c))\n",
    "\n",
    "def ellipse_angle_of_rotation2( a ):\n",
    "    b,c,d,f,g,a = a[1]/2, a[2], a[3]/2, a[4]/2, a[5], a[0]\n",
    "    if b == 0:\n",
    "        if a > c:\n",
    "            return 0\n",
    "        else:\n",
    "            return np.pi/2\n",
    "    else:\n",
    "        if a > c:\n",
    "            return np.arctan(2*b/(a-c))/2\n",
    "        else:\n",
    "            return np.pi/2 + np.arctan(2*b/(a-c))/2\n",
    "\n",
    "def ellipse_axis_length( a ):\n",
    "    b,c,d,f,g,a = a[1]/2, a[2], a[3]/2, a[4]/2, a[5], a[0]\n",
    "    up = 2*(a*f*f+c*d*d+g*b*b-2*b*d*f-a*c*g)\n",
    "    down1=(b*b-a*c)*( (c-a)*np.sqrt(1+4*b*b/((a-c)*(a-c)))-(c+a))\n",
    "    down2=(b*b-a*c)*( (a-c)*np.sqrt(1+4*b*b/((a-c)*(a-c)))-(c+a))\n",
    "    res1=np.sqrt(up/down1)\n",
    "    res2=np.sqrt(up/down2)\n",
    "    return np.array([res1, res2])"
   ]
  },
  {
   "cell_type": "code",
   "execution_count": 173,
   "metadata": {
    "collapsed": true
   },
   "outputs": [],
   "source": [
    "def image_thresholding(img,threshold):\n",
    "    threshold_pupil = threshold  \n",
    "#    idx1 = img[:,:] > threshold_pupil\n",
    "#    idx2 = img[:,:] < threshold_pupil\n",
    "    idx1 =  threshold_pupil < img[:,:] \n",
    "    idx2 = img[:,:] < threshold_pupil \n",
    "#    idx3 = img[:,:] > 1.5*threshold_pupil\n",
    "    img[idx1] = 255\n",
    "    img[idx2] = 0\n",
    "#    img[idx3] = 0\n",
    "    return img\n",
    "    \n",
    "def get_image_mat(filename):\n",
    "    img = Image.open(filename).convert('LA')\n",
    "    #img = img.resize((120, 100), Image.ANTIALIAS)\n",
    "    img = np.asarray(img, 'double').transpose()  \n",
    "    img = img[0,:,:] # just one layer\n",
    "    return img\n",
    "\n",
    "def get_binary_image_mat(filename,threshold):\n",
    "    img = Image.open(filename).convert('LA')\n",
    "    #img = img.resize((120, 100), Image.ANTIALIAS)\n",
    "    img = np.asarray(img, 'double').transpose()  \n",
    "    img = img[0,:,:] # just one layer\n",
    "    img = image_thresholding(img,threshold)\n",
    "    return img\n",
    "\n",
    "def show_image(img):\n",
    "    py.imshow(img.transpose(), cmap=py.cm.Greys_r)\n",
    "    \n",
    "def add_circle(img_mat,center,radius,luminance=255):\n",
    "    for rad in np.arange(0,2*np.pi, 0.01):\n",
    "        for width in [-0.5, 0, 0.5]: # give width to the circle for viewing\n",
    "            x = int(center[0] + (radius+width) * np.cos(rad))\n",
    "            y = int(center[1] + (radius+width) * np.sin(rad))\n",
    "            img_mat.transpose()[x,y] = luminance\n",
    "    return\n",
    "\n",
    "\n",
    "def add_ellipse(img_mat,center,a,b,phi,luminance=255):\n",
    "    c = np.sqrt(a*a-b*b)\n",
    "    e = c/a\n",
    "    for rad in np.arange(0,2*np.pi, 0.01):\n",
    "        for width in [-1, -0.5, 0, 0.5, 1]: # give width to the circle for viewing\n",
    "            #r = a*(1-e*e)/(1+e*np.cos(rad))\n",
    "            #x = int(center[0] + c + r * np.cos(rad))\n",
    "            #y = int(center[1] + r * np.sin(rad))\n",
    "            x = int(center[0] + (a+width)*np.cos(rad)*np.cos(phi) - (b+width)*np.sin(rad)*np.sin(phi))\n",
    "            y = int(center[1] + (a+width)*np.cos(rad)*np.sin(phi) + (b+width)*np.sin(rad)*np.cos(phi))\n",
    "            img_mat.transpose()[x,y] = luminance\n",
    "    return\n",
    "\n",
    "def save_image(img, center, radius, a, b, phi, file_name, lum = 255):\n",
    "    show_circle_img = img.copy()\n",
    "    add_circle(show_circle_img,center,radius,lum)\n",
    "    #add_ellipse(show_circle_img,center,a,b,phi,lum)\n",
    "    imageio.imwrite(file_name, show_circle_img.transpose())\n",
    "    return\n",
    "\n",
    "def export_to_csv(radius_data):\n",
    "    with open (csv_file, 'w') as csvfile:\n",
    "        writer = csv.writer(csvfile, lineterminator = '\\n', delimiter=' ')\n",
    "        for num in radius_data:\n",
    "            writer.writerow([num])\n",
    "    return\n",
    "\n",
    "def isNaN(num):\n",
    "    return num != num\n"
   ]
  },
  {
   "cell_type": "code",
   "execution_count": 174,
   "metadata": {},
   "outputs": [
    {
     "name": "stdout",
     "output_type": "stream",
     "text": [
      "[[ 39.  39.  40. ...,  43.  44.  44.]\n",
      " [ 40.  40.  40. ...,  45.  45.  46.]\n",
      " [ 44.  44.  44. ...,  50.  50.  50.]\n",
      " ..., \n",
      " [ 20.  20.  20. ...,  47.  47.  47.]\n",
      " [ 20.  20.  20. ...,  47.  47.  47.]\n",
      " [ 20.  20.  20. ...,  47.  47.  47.]]\n",
      "28.7198631287\n"
     ]
    },
    {
     "data": {
      "image/png": "[encoded data removed]",
      "text/plain": [
       "<matplotlib.figure.Figure at 0x246165bd240>"
      ]
     },
     "metadata": {},
     "output_type": "display_data"
    }
   ],
   "source": [
    "\n",
    "#testing on one image\n",
    "test_frame = '20180921_JP_470_8/frame625.jpg'\n",
    "img = get_image_mat(test_frame)\n",
    "show_image(img)\n",
    "print(img)\n",
    "print(img.mean(axis=0).mean())\n"
   ]
  },
  {
   "cell_type": "code",
   "execution_count": 175,
   "metadata": {},
   "outputs": [
    {
     "data": {
      "image/png": "[encoded data removed]",
      "text/plain": [
       "<matplotlib.figure.Figure at 0x246144e4780>"
      ]
     },
     "metadata": {},
     "output_type": "display_data"
    }
   ],
   "source": [
    "threshold = img.mean(axis=0).mean()*0.7\n",
    "img = get_binary_image_mat(test_frame,threshold)\n",
    "show_image(img)"
   ]
  },
  {
   "cell_type": "code",
   "execution_count": 177,
   "metadata": {},
   "outputs": [
    {
     "ename": "IndexError",
     "evalue": "too many indices for array",
     "output_type": "error",
     "traceback": [
      "\u001b[1;31m---------------------------------------------------------------------------\u001b[0m",
      "\u001b[1;31mIndexError\u001b[0m                                Traceback (most recent call last)",
      "\u001b[1;32m<ipython-input-177-b26062b5ecc3>\u001b[0m in \u001b[0;36m<module>\u001b[1;34m()\u001b[0m\n\u001b[0;32m      7\u001b[0m \u001b[0mpoints\u001b[0m \u001b[1;33m=\u001b[0m \u001b[0mfind_edge_points\u001b[0m\u001b[1;33m(\u001b[0m\u001b[0mtest_estimate_center\u001b[0m\u001b[1;33m,\u001b[0m\u001b[0mtest_estimate_radius\u001b[0m\u001b[1;33m,\u001b[0m\u001b[0mimg\u001b[0m\u001b[1;33m)\u001b[0m\u001b[1;33m\u001b[0m\u001b[0m\n\u001b[0;32m      8\u001b[0m \u001b[0ma_points\u001b[0m \u001b[1;33m=\u001b[0m \u001b[0mnp\u001b[0m\u001b[1;33m.\u001b[0m\u001b[0marray\u001b[0m\u001b[1;33m(\u001b[0m\u001b[0mpoints\u001b[0m\u001b[1;33m)\u001b[0m\u001b[1;33m\u001b[0m\u001b[0m\n\u001b[1;32m----> 9\u001b[1;33m \u001b[0mx\u001b[0m \u001b[1;33m=\u001b[0m \u001b[0ma_points\u001b[0m\u001b[1;33m[\u001b[0m\u001b[1;33m:\u001b[0m\u001b[1;33m,\u001b[0m \u001b[1;36m0\u001b[0m\u001b[1;33m]\u001b[0m\u001b[1;33m\u001b[0m\u001b[0m\n\u001b[0m\u001b[0;32m     10\u001b[0m \u001b[0my\u001b[0m \u001b[1;33m=\u001b[0m \u001b[0ma_points\u001b[0m\u001b[1;33m[\u001b[0m\u001b[1;33m:\u001b[0m\u001b[1;33m,\u001b[0m \u001b[1;36m1\u001b[0m\u001b[1;33m]\u001b[0m\u001b[1;33m\u001b[0m\u001b[0m\n\u001b[0;32m     11\u001b[0m \u001b[0mpy\u001b[0m\u001b[1;33m.\u001b[0m\u001b[0mscatter\u001b[0m\u001b[1;33m(\u001b[0m\u001b[0mx\u001b[0m\u001b[1;33m,\u001b[0m\u001b[0my\u001b[0m\u001b[1;33m,\u001b[0m \u001b[0mcolor\u001b[0m\u001b[1;33m=\u001b[0m\u001b[1;34m\"blue\"\u001b[0m\u001b[1;33m)\u001b[0m\u001b[1;33m\u001b[0m\u001b[0m\n",
      "\u001b[1;31mIndexError\u001b[0m: too many indices for array"
     ]
    }
   ],
   "source": [
    "test_estimate_center = np.array([600,800])\n",
    "test_estimate_radius = 230\n",
    "\n",
    "test_estimate_a = test_estimate_radius\n",
    "test_estimate_b = test_estimate_radius\n",
    "\n",
    "points = find_edge_points(test_estimate_center,test_estimate_radius,img)\n",
    "a_points = np.array(points)\n",
    "x = a_points[:, 0]\n",
    "y = a_points[:, 1]\n",
    "py.scatter(x,y, color=\"blue\")\n",
    "\n",
    "\n",
    "\n",
    "eye = fitEllipse(x,y)\n",
    "center = ellipse_center(eye)\n",
    "\n",
    "if isinstance(center[0], complex):\n",
    "    center = test_estimate_center\n",
    "    r = test_estimate_radius\n",
    "    a = test_estimate_a\n",
    "    b = test_estimate_b  \n",
    "    \n",
    "else:\n",
    "    phi = ellipse_angle_of_rotation2(eye)\n",
    "    axes = ellipse_axis_length(eye)\n",
    "    a, b = axes\n",
    "    area = np.pi*a*b\n",
    "    r = np.sqrt(a*b)\n",
    "\n",
    "\n",
    "print(center[0])\n",
    "print (\"center = \",  center)\n",
    "print (\"angle of rotation = \",  phi)\n",
    "print (\"axes = \", axes)\n",
    "print (\"area = \", area)\n",
    "print (\"radius = \", r)\n",
    "\n",
    "\n",
    "\n",
    "R = np.arange(0,2*np.pi, 0.01)\n",
    "xx = center[0] + a*np.cos(R)*np.cos(phi) - b*np.sin(R)*np.sin(phi)\n",
    "yy = center[1] + a*np.cos(R)*np.sin(phi) + b*np.sin(R)*np.cos(phi)\n",
    "py.plot(xx,yy, color = 'red')\n"
   ]
  },
  {
   "cell_type": "code",
   "execution_count": null,
   "metadata": {},
   "outputs": [],
   "source": [
    "show_circle_img = get_image_mat(test_frame)\n",
    "add_circle(show_circle_img,center,r,255)\n",
    "#add_ellipse(show_circle_img,center,a,b,255)\n",
    "show_image(show_circle_img)"
   ]
  },
  {
   "cell_type": "code",
   "execution_count": null,
   "metadata": {},
   "outputs": [
    {
     "name": "stdout",
     "output_type": "stream",
     "text": [
      "FRAME 1\n",
      "Prev thres: 32.9470970154\n",
      "*0.3\n",
      "New thres: 9.88412910461\n"
     ]
    },
    {
     "name": "stderr",
     "output_type": "stream",
     "text": [
      "WARNING:root:Lossy conversion from float64 to uint8. Range [0.0, 255.0]. Convert image to uint8 prior to saving to suppress this warning.\n"
     ]
    },
    {
     "name": "stdout",
     "output_type": "stream",
     "text": [
      "254\n",
      "1 Else statement\n",
      "FRAME 2\n",
      "Prev thres: 32.9578025818\n",
      "*0.3\n",
      "New thres: 9.88734077454\n"
     ]
    },
    {
     "name": "stderr",
     "output_type": "stream",
     "text": [
      "WARNING:root:Lossy conversion from float64 to uint8. Range [0.0, 255.0]. Convert image to uint8 prior to saving to suppress this warning.\n"
     ]
    },
    {
     "name": "stdout",
     "output_type": "stream",
     "text": [
      "252\n",
      "2 Else statement\n",
      "FRAME 3\n",
      "Prev thres: 32.6999687195\n",
      "*0.3\n",
      "New thres: 9.80999061584\n"
     ]
    },
    {
     "name": "stderr",
     "output_type": "stream",
     "text": [
      "WARNING:root:Lossy conversion from float64 to uint8. Range [0.0, 255.0]. Convert image to uint8 prior to saving to suppress this warning.\n"
     ]
    },
    {
     "name": "stdout",
     "output_type": "stream",
     "text": [
      "251\n",
      "3 Else statement\n",
      "FRAME 4\n",
      "Prev thres: 32.271546936\n",
      "*0.3\n",
      "New thres: 9.68146408081\n"
     ]
    },
    {
     "name": "stderr",
     "output_type": "stream",
     "text": [
      "WARNING:root:Lossy conversion from float64 to uint8. Range [0.0, 255.0]. Convert image to uint8 prior to saving to suppress this warning.\n"
     ]
    },
    {
     "name": "stdout",
     "output_type": "stream",
     "text": [
      "250\n",
      "4 Else statement\n",
      "FRAME 5\n",
      "Prev thres: 32.2310440063\n",
      "*0.3\n",
      "New thres: 9.6693132019\n"
     ]
    },
    {
     "name": "stderr",
     "output_type": "stream",
     "text": [
      "WARNING:root:Lossy conversion from float64 to uint8. Range [0.0, 255.0]. Convert image to uint8 prior to saving to suppress this warning.\n"
     ]
    },
    {
     "name": "stdout",
     "output_type": "stream",
     "text": [
      "256\n",
      "5 Else statement\n",
      "FRAME 6\n",
      "Prev thres: 32.3359146118\n",
      "*0.3\n",
      "New thres: 9.70077438354\n"
     ]
    },
    {
     "name": "stderr",
     "output_type": "stream",
     "text": [
      "WARNING:root:Lossy conversion from float64 to uint8. Range [0.0, 255.0]. Convert image to uint8 prior to saving to suppress this warning.\n"
     ]
    },
    {
     "name": "stdout",
     "output_type": "stream",
     "text": [
      "258\n",
      "6 Else statement\n",
      "FRAME 7\n",
      "Prev thres: 32.1700561523\n",
      "*0.3\n",
      "New thres: 9.6510168457\n"
     ]
    },
    {
     "name": "stderr",
     "output_type": "stream",
     "text": [
      "WARNING:root:Lossy conversion from float64 to uint8. Range [0.0, 255.0]. Convert image to uint8 prior to saving to suppress this warning.\n"
     ]
    },
    {
     "name": "stdout",
     "output_type": "stream",
     "text": [
      "251\n",
      "7 Else statement\n",
      "FRAME 8\n",
      "Prev thres: 32.2866996765\n",
      "*0.3\n",
      "New thres: 9.68600990295\n"
     ]
    },
    {
     "name": "stderr",
     "output_type": "stream",
     "text": [
      "WARNING:root:Lossy conversion from float64 to uint8. Range [0.0, 255.0]. Convert image to uint8 prior to saving to suppress this warning.\n"
     ]
    },
    {
     "name": "stdout",
     "output_type": "stream",
     "text": [
      "243\n",
      "8 Else statement\n",
      "FRAME 9\n",
      "Prev thres: 32.3621955872\n",
      "*0.3\n",
      "New thres: 9.70865867615\n"
     ]
    },
    {
     "name": "stderr",
     "output_type": "stream",
     "text": [
      "WARNING:root:Lossy conversion from float64 to uint8. Range [0.0, 255.0]. Convert image to uint8 prior to saving to suppress this warning.\n"
     ]
    },
    {
     "name": "stdout",
     "output_type": "stream",
     "text": [
      "245\n",
      "9 Else statement\n",
      "FRAME 10\n",
      "Prev thres: 32.3947135925\n",
      "*0.3\n",
      "New thres: 9.71841407776\n"
     ]
    },
    {
     "name": "stderr",
     "output_type": "stream",
     "text": [
      "WARNING:root:Lossy conversion from float64 to uint8. Range [0.0, 255.0]. Convert image to uint8 prior to saving to suppress this warning.\n"
     ]
    },
    {
     "name": "stdout",
     "output_type": "stream",
     "text": [
      "250\n",
      "10 Else statement\n",
      "FRAME 11\n",
      "Prev thres: 32.5013244629\n",
      "*0.3\n",
      "New thres: 9.75039733887\n"
     ]
    },
    {
     "name": "stderr",
     "output_type": "stream",
     "text": [
      "WARNING:root:Lossy conversion from float64 to uint8. Range [0.0, 255.0]. Convert image to uint8 prior to saving to suppress this warning.\n"
     ]
    },
    {
     "name": "stdout",
     "output_type": "stream",
     "text": [
      "245\n",
      "11 Else statement\n",
      "FRAME 12\n",
      "Prev thres: 32.3887374878\n",
      "*0.3\n",
      "New thres: 9.71662124634\n"
     ]
    },
    {
     "name": "stderr",
     "output_type": "stream",
     "text": [
      "WARNING:root:Lossy conversion from float64 to uint8. Range [0.0, 255.0]. Convert image to uint8 prior to saving to suppress this warning.\n"
     ]
    },
    {
     "name": "stdout",
     "output_type": "stream",
     "text": [
      "244\n",
      "12 Else statement\n",
      "FRAME 13\n",
      "Prev thres: 32.3760726929\n",
      "*0.3\n",
      "New thres: 9.71282180786\n"
     ]
    },
    {
     "name": "stderr",
     "output_type": "stream",
     "text": [
      "WARNING:root:Lossy conversion from float64 to uint8. Range [0.0, 255.0]. Convert image to uint8 prior to saving to suppress this warning.\n"
     ]
    },
    {
     "name": "stdout",
     "output_type": "stream",
     "text": [
      "243\n",
      "13 Else statement\n",
      "FRAME 14\n",
      "Prev thres: 32.3557609558\n",
      "*0.3\n",
      "New thres: 9.70672828674\n"
     ]
    },
    {
     "name": "stderr",
     "output_type": "stream",
     "text": [
      "WARNING:root:Lossy conversion from float64 to uint8. Range [0.0, 255.0]. Convert image to uint8 prior to saving to suppress this warning.\n"
     ]
    },
    {
     "name": "stdout",
     "output_type": "stream",
     "text": [
      "243\n",
      "14 Else statement\n",
      "FRAME 15\n",
      "Prev thres: 32.3785400391\n",
      "*0.3\n",
      "New thres: 9.71356201172\n"
     ]
    },
    {
     "name": "stderr",
     "output_type": "stream",
     "text": [
      "WARNING:root:Lossy conversion from float64 to uint8. Range [0.0, 255.0]. Convert image to uint8 prior to saving to suppress this warning.\n"
     ]
    },
    {
     "name": "stdout",
     "output_type": "stream",
     "text": [
      "259\n",
      "15 Else statement\n",
      "FRAME 16\n",
      "Prev thres: 32.3703765869\n",
      "*0.3\n",
      "New thres: 9.71111297607\n"
     ]
    },
    {
     "name": "stderr",
     "output_type": "stream",
     "text": [
      "WARNING:root:Lossy conversion from float64 to uint8. Range [0.0, 255.0]. Convert image to uint8 prior to saving to suppress this warning.\n"
     ]
    },
    {
     "name": "stdout",
     "output_type": "stream",
     "text": [
      "250\n",
      "16 Else statement\n",
      "FRAME 17\n",
      "Prev thres: 32.3054763794\n",
      "*0.3\n",
      "New thres: 9.69164291382\n"
     ]
    },
    {
     "name": "stderr",
     "output_type": "stream",
     "text": [
      "WARNING:root:Lossy conversion from float64 to uint8. Range [0.0, 255.0]. Convert image to uint8 prior to saving to suppress this warning.\n"
     ]
    },
    {
     "name": "stdout",
     "output_type": "stream",
     "text": [
      "248\n",
      "17 Else statement\n",
      "FRAME 18\n",
      "Prev thres: 32.2461143494\n",
      "*0.3\n",
      "New thres: 9.67383430481\n"
     ]
    },
    {
     "name": "stderr",
     "output_type": "stream",
     "text": [
      "WARNING:root:Lossy conversion from float64 to uint8. Range [0.0, 255.0]. Convert image to uint8 prior to saving to suppress this warning.\n"
     ]
    },
    {
     "name": "stdout",
     "output_type": "stream",
     "text": [
      "246\n",
      "18 Else statement\n",
      "FRAME 19\n",
      "Prev thres: 32.2295974731\n",
      "*0.3\n",
      "New thres: 9.66887924194\n"
     ]
    },
    {
     "name": "stderr",
     "output_type": "stream",
     "text": [
      "WARNING:root:Lossy conversion from float64 to uint8. Range [0.0, 255.0]. Convert image to uint8 prior to saving to suppress this warning.\n"
     ]
    },
    {
     "name": "stdout",
     "output_type": "stream",
     "text": [
      "248\n",
      "19 Else statement\n",
      "FRAME 20\n",
      "Prev thres: 32.2229866028\n",
      "*0.3\n",
      "New thres: 9.66689598083\n"
     ]
    },
    {
     "name": "stderr",
     "output_type": "stream",
     "text": [
      "WARNING:root:Lossy conversion from float64 to uint8. Range [0.0, 255.0]. Convert image to uint8 prior to saving to suppress this warning.\n"
     ]
    },
    {
     "name": "stdout",
     "output_type": "stream",
     "text": [
      "257\n",
      "20 Else statement\n",
      "FRAME 21\n",
      "Prev thres: 32.2784004211\n",
      "*0.3\n",
      "New thres: 9.68352012634\n"
     ]
    },
    {
     "name": "stderr",
     "output_type": "stream",
     "text": [
      "WARNING:root:Lossy conversion from float64 to uint8. Range [0.0, 255.0]. Convert image to uint8 prior to saving to suppress this warning.\n"
     ]
    },
    {
     "name": "stdout",
     "output_type": "stream",
     "text": [
      "251\n",
      "21 Else statement\n",
      "FRAME 22\n",
      "Prev thres: 32.1391075134\n",
      "*0.3\n",
      "New thres: 9.64173225403\n"
     ]
    },
    {
     "name": "stderr",
     "output_type": "stream",
     "text": [
      "WARNING:root:Lossy conversion from float64 to uint8. Range [0.0, 255.0]. Convert image to uint8 prior to saving to suppress this warning.\n"
     ]
    },
    {
     "name": "stdout",
     "output_type": "stream",
     "text": [
      "243\n",
      "22 Else statement\n",
      "FRAME 23\n",
      "Prev thres: 32.0585388184\n",
      "*0.3\n",
      "New thres: 9.61756164551\n"
     ]
    },
    {
     "name": "stderr",
     "output_type": "stream",
     "text": [
      "WARNING:root:Lossy conversion from float64 to uint8. Range [0.0, 255.0]. Convert image to uint8 prior to saving to suppress this warning.\n"
     ]
    },
    {
     "name": "stdout",
     "output_type": "stream",
     "text": [
      "245\n",
      "23 Else statement\n",
      "FRAME 24"
     ]
    },
    {
     "name": "stderr",
     "output_type": "stream",
     "text": [
      "WARNING:root:Lossy conversion from float64 to uint8. Range [0.0, 255.0]. Convert image to uint8 prior to saving to suppress this warning.\n"
     ]
    },
    {
     "name": "stdout",
     "output_type": "stream",
     "text": [
      "\n",
      "Prev thres: 32.0620010376\n",
      "*0.3\n",
      "New thres: 9.61860031128\n",
      "243\n",
      "24 Else statement\n",
      "FRAME 25\n",
      "Prev thres: 32.2080032349\n",
      "*0.3\n",
      "New thres: 9.66240097046\n"
     ]
    },
    {
     "name": "stderr",
     "output_type": "stream",
     "text": [
      "WARNING:root:Lossy conversion from float64 to uint8. Range [0.0, 255.0]. Convert image to uint8 prior to saving to suppress this warning.\n"
     ]
    },
    {
     "name": "stdout",
     "output_type": "stream",
     "text": [
      "255\n",
      "25 Else statement\n",
      "FRAME 26\n",
      "Prev thres: 32.067779541\n",
      "*0.3\n",
      "New thres: 9.6203338623\n"
     ]
    },
    {
     "name": "stderr",
     "output_type": "stream",
     "text": [
      "WARNING:root:Lossy conversion from float64 to uint8. Range [0.0, 255.0]. Convert image to uint8 prior to saving to suppress this warning.\n"
     ]
    },
    {
     "name": "stdout",
     "output_type": "stream",
     "text": [
      "248\n",
      "26 Else statement\n",
      "FRAME 27\n",
      "Prev thres: 32.0581161499\n",
      "*0.3\n",
      "New thres: 9.61743484497\n"
     ]
    },
    {
     "name": "stderr",
     "output_type": "stream",
     "text": [
      "WARNING:root:Lossy conversion from float64 to uint8. Range [0.0, 255.0]. Convert image to uint8 prior to saving to suppress this warning.\n"
     ]
    },
    {
     "name": "stdout",
     "output_type": "stream",
     "text": [
      "245\n",
      "27 Else statement\n",
      "FRAME 28\n",
      "Prev thres: 32.0979621887\n",
      "*0.3\n",
      "New thres: 9.62938865662\n"
     ]
    },
    {
     "name": "stderr",
     "output_type": "stream",
     "text": [
      "WARNING:root:Lossy conversion from float64 to uint8. Range [0.0, 255.0]. Convert image to uint8 prior to saving to suppress this warning.\n"
     ]
    },
    {
     "name": "stdout",
     "output_type": "stream",
     "text": [
      "251\n",
      "28 Else statement\n",
      "FRAME 29\n",
      "Prev thres: 32.0438095093\n",
      "*0.3\n",
      "New thres: 9.61314285278\n"
     ]
    },
    {
     "name": "stderr",
     "output_type": "stream",
     "text": [
      "WARNING:root:Lossy conversion from float64 to uint8. Range [0.0, 255.0]. Convert image to uint8 prior to saving to suppress this warning.\n"
     ]
    },
    {
     "name": "stdout",
     "output_type": "stream",
     "text": [
      "251\n",
      "29 Else statement\n",
      "FRAME 30\n",
      "Prev thres: 32.1059234619\n",
      "*0.3\n",
      "New thres: 9.63177703857\n"
     ]
    },
    {
     "name": "stderr",
     "output_type": "stream",
     "text": [
      "WARNING:root:Lossy conversion from float64 to uint8. Range [0.0, 255.0]. Convert image to uint8 prior to saving to suppress this warning.\n"
     ]
    },
    {
     "name": "stdout",
     "output_type": "stream",
     "text": [
      "256\n",
      "30 Else statement\n",
      "FRAME 31\n",
      "Prev thres: 32.1765129089\n",
      "*0.3\n",
      "New thres: 9.65295387268\n"
     ]
    },
    {
     "name": "stderr",
     "output_type": "stream",
     "text": [
      "WARNING:root:Lossy conversion from float64 to uint8. Range [0.0, 255.0]. Convert image to uint8 prior to saving to suppress this warning.\n"
     ]
    },
    {
     "name": "stdout",
     "output_type": "stream",
     "text": [
      "247\n",
      "31 Else statement\n",
      "FRAME 32\n",
      "Prev thres: 31.9458679199\n",
      "*0.3\n",
      "New thres: 9.58376037598\n"
     ]
    },
    {
     "name": "stderr",
     "output_type": "stream",
     "text": [
      "WARNING:root:Lossy conversion from float64 to uint8. Range [0.0, 255.0]. Convert image to uint8 prior to saving to suppress this warning.\n"
     ]
    },
    {
     "name": "stdout",
     "output_type": "stream",
     "text": [
      "243\n",
      "32 Else statement\n",
      "FRAME 33\n",
      "Prev thres: 31.9464439392\n",
      "*0.3\n",
      "New thres: 9.58393318176\n"
     ]
    },
    {
     "name": "stderr",
     "output_type": "stream",
     "text": [
      "WARNING:root:Lossy conversion from float64 to uint8. Range [0.0, 255.0]. Convert image to uint8 prior to saving to suppress this warning.\n"
     ]
    },
    {
     "name": "stdout",
     "output_type": "stream",
     "text": [
      "236\n",
      "33 Else statement\n",
      "FRAME 34\n",
      "Prev thres: 31.8718185425\n",
      "*0.3\n",
      "New thres: 9.56154556274\n"
     ]
    },
    {
     "name": "stderr",
     "output_type": "stream",
     "text": [
      "WARNING:root:Lossy conversion from float64 to uint8. Range [0.0, 255.0]. Convert image to uint8 prior to saving to suppress this warning.\n"
     ]
    },
    {
     "name": "stdout",
     "output_type": "stream",
     "text": [
      "235\n",
      "34 Else statement\n",
      "FRAME 35\n",
      "Prev thres: 31.5578277588\n",
      "*0.3\n",
      "New thres: 9.46734832764\n"
     ]
    },
    {
     "name": "stderr",
     "output_type": "stream",
     "text": [
      "WARNING:root:Lossy conversion from float64 to uint8. Range [0.0, 255.0]. Convert image to uint8 prior to saving to suppress this warning.\n"
     ]
    },
    {
     "name": "stdout",
     "output_type": "stream",
     "text": [
      "252\n",
      "35 Else statement\n",
      "FRAME 36\n",
      "Prev thres: 31.9319641113\n",
      "*0.3\n",
      "New thres: 9.5795892334\n"
     ]
    },
    {
     "name": "stderr",
     "output_type": "stream",
     "text": [
      "WARNING:root:Lossy conversion from float64 to uint8. Range [0.0, 255.0]. Convert image to uint8 prior to saving to suppress this warning.\n"
     ]
    },
    {
     "name": "stdout",
     "output_type": "stream",
     "text": [
      "238\n",
      "36 Else statement\n",
      "FRAME 37\n",
      "Prev thres: 31.9150657654\n",
      "*0.3\n",
      "New thres: 9.57451972961\n"
     ]
    },
    {
     "name": "stderr",
     "output_type": "stream",
     "text": [
      "WARNING:root:Lossy conversion from float64 to uint8. Range [0.0, 255.0]. Convert image to uint8 prior to saving to suppress this warning.\n"
     ]
    },
    {
     "name": "stdout",
     "output_type": "stream",
     "text": [
      "235\n",
      "37 Else statement\n",
      "FRAME 38\n",
      "Prev thres: 31.7949615479\n",
      "*0.3\n",
      "New thres: 9.53848846436\n"
     ]
    },
    {
     "name": "stderr",
     "output_type": "stream",
     "text": [
      "WARNING:root:Lossy conversion from float64 to uint8. Range [0.0, 255.0]. Convert image to uint8 prior to saving to suppress this warning.\n"
     ]
    },
    {
     "name": "stdout",
     "output_type": "stream",
     "text": [
      "238\n",
      "38 Else statement\n",
      "FRAME 39\n",
      "Prev thres: 31.709463501\n",
      "*0.3\n",
      "New thres: 9.51283905029\n"
     ]
    },
    {
     "name": "stderr",
     "output_type": "stream",
     "text": [
      "WARNING:root:Lossy conversion from float64 to uint8. Range [0.0, 255.0]. Convert image to uint8 prior to saving to suppress this warning.\n"
     ]
    },
    {
     "name": "stdout",
     "output_type": "stream",
     "text": [
      "242\n",
      "39 Else statement\n",
      "FRAME 40\n",
      "Prev thres: 31.7927734375\n",
      "*0.3\n",
      "New thres: 9.53783203125\n"
     ]
    },
    {
     "name": "stderr",
     "output_type": "stream",
     "text": [
      "WARNING:root:Lossy conversion from float64 to uint8. Range [0.0, 255.0]. Convert image to uint8 prior to saving to suppress this warning.\n"
     ]
    },
    {
     "name": "stdout",
     "output_type": "stream",
     "text": [
      "250\n",
      "40 Else statement\n",
      "FRAME 41\n",
      "Prev thres: 31.8496986389\n",
      "*0.3\n",
      "New thres: 9.55490959167\n"
     ]
    },
    {
     "name": "stderr",
     "output_type": "stream",
     "text": [
      "WARNING:root:Lossy conversion from float64 to uint8. Range [0.0, 255.0]. Convert image to uint8 prior to saving to suppress this warning.\n"
     ]
    },
    {
     "name": "stdout",
     "output_type": "stream",
     "text": [
      "246\n",
      "41 Else statement\n",
      "FRAME 42\n",
      "Prev thres: 31.8791748047\n",
      "*0.3\n",
      "New thres: 9.56375244141\n"
     ]
    },
    {
     "name": "stderr",
     "output_type": "stream",
     "text": [
      "WARNING:root:Lossy conversion from float64 to uint8. Range [0.0, 255.0]. Convert image to uint8 prior to saving to suppress this warning.\n"
     ]
    },
    {
     "name": "stdout",
     "output_type": "stream",
     "text": [
      "242\n",
      "42 Else statement\n",
      "FRAME 43\n",
      "Prev thres: 32.0414978027\n",
      "*0.3\n",
      "New thres: 9.61244934082\n"
     ]
    },
    {
     "name": "stderr",
     "output_type": "stream",
     "text": [
      "WARNING:root:Lossy conversion from float64 to uint8. Range [0.0, 255.0]. Convert image to uint8 prior to saving to suppress this warning.\n"
     ]
    },
    {
     "name": "stdout",
     "output_type": "stream",
     "text": [
      "244\n",
      "43 Else statement\n",
      "FRAME 44\n",
      "Prev thres: 32.0532989502\n",
      "*0.3\n",
      "New thres: 9.61598968506\n"
     ]
    },
    {
     "name": "stderr",
     "output_type": "stream",
     "text": [
      "WARNING:root:Lossy conversion from float64 to uint8. Range [0.0, 255.0]. Convert image to uint8 prior to saving to suppress this warning.\n"
     ]
    },
    {
     "name": "stdout",
     "output_type": "stream",
     "text": [
      "247\n",
      "44 Else statement\n",
      "FRAME 45\n",
      "Prev thres: 32.4547698975\n",
      "*0.3\n",
      "New thres: 9.73643096924\n"
     ]
    },
    {
     "name": "stderr",
     "output_type": "stream",
     "text": [
      "WARNING:root:Lossy conversion from float64 to uint8. Range [0.0, 255.0]. Convert image to uint8 prior to saving to suppress this warning.\n"
     ]
    },
    {
     "name": "stdout",
     "output_type": "stream",
     "text": [
      "260\n",
      "45 Else statement\n",
      "FRAME 46\n",
      "Prev thres: 32.5009803772\n",
      "*0.3\n",
      "New thres: 9.75029411316\n"
     ]
    },
    {
     "name": "stderr",
     "output_type": "stream",
     "text": [
      "WARNING:root:Lossy conversion from float64 to uint8. Range [0.0, 255.0]. Convert image to uint8 prior to saving to suppress this warning.\n"
     ]
    },
    {
     "name": "stdout",
     "output_type": "stream",
     "text": [
      "248\n",
      "46 Else statement\n",
      "FRAME 47\n",
      "Prev thres: 32.2243110657\n",
      "*0.3\n",
      "New thres: 9.6672933197\n"
     ]
    },
    {
     "name": "stderr",
     "output_type": "stream",
     "text": [
      "WARNING:root:Lossy conversion from float64 to uint8. Range [0.0, 255.0]. Convert image to uint8 prior to saving to suppress this warning.\n"
     ]
    },
    {
     "name": "stdout",
     "output_type": "stream",
     "text": [
      "245\n",
      "47 Else statement\n",
      "FRAME 48\n",
      "Prev thres: 32.1874519348\n",
      "*0.3\n",
      "New thres: 9.65623558044\n"
     ]
    },
    {
     "name": "stderr",
     "output_type": "stream",
     "text": [
      "WARNING:root:Lossy conversion from float64 to uint8. Range [0.0, 255.0]. Convert image to uint8 prior to saving to suppress this warning.\n"
     ]
    },
    {
     "name": "stdout",
     "output_type": "stream",
     "text": [
      "240\n",
      "48 Else statement\n",
      "FRAME 49\n",
      "Prev thres: 32.0941589355\n",
      "*0.3\n",
      "New thres: 9.62824768066\n"
     ]
    },
    {
     "name": "stderr",
     "output_type": "stream",
     "text": [
      "WARNING:root:Lossy conversion from float64 to uint8. Range [0.0, 255.0]. Convert image to uint8 prior to saving to suppress this warning.\n"
     ]
    },
    {
     "name": "stdout",
     "output_type": "stream",
     "text": [
      "240\n",
      "49 Else statement\n",
      "FRAME 50\n",
      "Prev thres: 31.8618804932\n",
      "*0.3\n",
      "New thres: 9.55856414795\n"
     ]
    },
    {
     "name": "stderr",
     "output_type": "stream",
     "text": [
      "WARNING:root:Lossy conversion from float64 to uint8. Range [0.0, 255.0]. Convert image to uint8 prior to saving to suppress this warning.\n"
     ]
    },
    {
     "name": "stdout",
     "output_type": "stream",
     "text": [
      "258\n",
      "50 Else statement\n",
      "FRAME 51\n",
      "Prev thres: 33.0079147339\n",
      "*0.3\n",
      "New thres: 9.90237442017\n"
     ]
    },
    {
     "name": "stderr",
     "output_type": "stream",
     "text": [
      "WARNING:root:Lossy conversion from float64 to uint8. Range [0.0, 255.0]. Convert image to uint8 prior to saving to suppress this warning.\n"
     ]
    },
    {
     "name": "stdout",
     "output_type": "stream",
     "text": [
      "217\n",
      "51 Else statement\n",
      "FRAME 52\n",
      "Prev thres: 32.6534408569\n",
      "*0.3\n",
      "New thres: 9.79603225708\n"
     ]
    }
   ],
   "source": [
    "radius_data = []\n",
    "\n",
    "\n",
    "estimate_center = np.array([600,800])\n",
    "\n",
    "\n",
    "estimate_radius = 230\n",
    "\n",
    "estimate_a = test_estimate_radius\n",
    "estimate_b = test_estimate_radius\n",
    "\n",
    "\n",
    "for i in range(1,n_frame+1):\n",
    "\n",
    "    if i >2675:\n",
    "        estimate_center = np.array([600,585])\n",
    "    elif i > 2499:\n",
    "        estimate_center = np.array([600,490])\n",
    "    elif i > 1999:\n",
    "        estimate_center = np.array([690,480])\n",
    "    elif i > 1629:\n",
    "        estimate_center = np.array([590,570])\n",
    "    elif i > 1539:\n",
    "        estimate_center = np.array([600,580])\n",
    "    elif i > 1129:\n",
    "        estimate_center = np.array([630,600])\n",
    "    elif i > 859:\n",
    "        estimate_center = np.array([630,630])\n",
    "    elif i> 620:\n",
    "        estimate_center = np.array([630,660])\n",
    "    elif i > 549:\n",
    "        estimate_center = np.array([650,710])    \n",
    "    elif i > 434:\n",
    "        estimate_center = np.array([620,710])\n",
    "    \n",
    "    elif i > 410:\n",
    "        estimate_center = np.array([630,780])\n",
    "        \n",
    "\n",
    "\n",
    "    \n",
    "\n",
    "\n",
    "\n",
    "    original_img = get_image_mat(input_frame.format(i))\n",
    "    threshold = original_img.mean(axis=0).mean()\n",
    "    \n",
    "    print(\"FRAME\", i)\n",
    "    print(\"Prev thres:\", threshold)\n",
    "\n",
    "\n",
    "    \n",
    "    if (0 <i<103) or (157 <i <434):\n",
    "        if threshold < 50:\n",
    "            threshold *= 0.3\n",
    "            print(\"*0.3\")\n",
    "        else:\n",
    "            threshold *= 0.4\n",
    "            print(\"*0.4\")\n",
    "            \n",
    "    elif (104 < i < 157):\n",
    "        threshold *= 0.25\n",
    "        print(\"*0.25\")\n",
    "        \n",
    "\n",
    "    elif(434 < i < 467):\n",
    "        threshold *= 0.67\n",
    "        print(\"*0.67\")\n",
    "    elif (467<i<489):\n",
    "        threshold *=0.58\n",
    "        print(\"*0.58\")\n",
    "    elif (496<i<500):\n",
    "        threshold *= 0.6\n",
    "        print(\"*0.6\")\n",
    "    elif(499<i<583) or (332<i<903):\n",
    "        threshold *= 0.52\n",
    "        print(\"*0.52\")\n",
    "        \n",
    "    else:\n",
    "        if threshold < 50:\n",
    "            threshold *= 0.64\n",
    "            print(\"else *0.64\")\n",
    "        else:\n",
    "            threshold *= 0.5\n",
    "            print(\"*0.5\")\n",
    "            \n",
    "    \n",
    "\n",
    "            \n",
    "    \n",
    "    print(\"New thres:\", threshold)\n",
    "    \n",
    "#    print(threshold)\n",
    "    \n",
    "    img = get_binary_image_mat(input_frame.format(i),threshold)\n",
    "    \n",
    "    points = find_edge_points(estimate_center,estimate_radius,img)\n",
    "\n",
    "    if (len(points)>1):\n",
    "        print(len(points))\n",
    "        a_points = np.array(points)\n",
    "        x = a_points[:, 0]\n",
    "        y = a_points[:, 1]\n",
    "        eye = fitEllipse(x,y)\n",
    "        center = ellipse_center(eye)\n",
    "        if isinstance(center[0], complex):\n",
    "            center = estimate_center\n",
    "            r = estimate_radius\n",
    "            a = estimate_a\n",
    "            b = estimate_b        \n",
    "        else:\n",
    "            phi = ellipse_angle_of_rotation2(eye)\n",
    "            axes = ellipse_axis_length(eye)\n",
    "            a, b = axes\n",
    "            area = np.pi*a*b\n",
    "            r = np.sqrt(a*b)\n",
    "        \n",
    "\n",
    "    #x-------------------------------------------------------------\n",
    "    # In the case of blinking, bad detection, or complex\n",
    "    # 451 - 464: Detection did not work with any threshold - returned an IndexError\n",
    "    use_previous_frame = [103,104,157,220, 271,272,273,274,275,276,2772,78,279,280,281,282,283,284,285,286,287,288,289,\n",
    "                          290,291,292,293,294,295,296,297,\n",
    "                          288, 289, 290,291,292,293,294,295,432,433,434,450,453, 455,456,457,458,459,460,461,462,463,464, 467,\n",
    "                          2724,2725,2726,2727,2728,2729,2730,2731,2756,2757,2758,2759,2760,2761,2761,2763,2764,2774,2775,2776,2777,\n",
    "                          2778,2779,2780,2781,2782,2783,2784,2785,2786,2787,2788,2789,2790,2791,2792,2793,2794,2795, 2805,2806,2807,\n",
    "                         2808,2809,2810,2811,2812,2822,2823,2824,2825,2826,2827,2828,2829,2830,2831,2832,2833,2834,2835,2836,2837,\n",
    "                         2838,2839,2840,2841,2842,2843,2844,2845,2846,2847,2848,2849,2850,2851,2852,2853,2854,2855]\n",
    "\n",
    "\n",
    "    if (i in use_previous_frame) or (len(points)==0) or isNaN(r) or isNaN(center[0]):\n",
    "        if i in use_previous_frame:\n",
    "            print(i,\"In use_previous_Frame\")\n",
    "        if len(points)==0:\n",
    "            print(i,\"Points empty\")\n",
    "        if isNaN(r):\n",
    "            print(i,\"isNaN(r) True\")\n",
    "        if isNaN(center[0]):\n",
    "            print(i,\"IsNaN(center[0]) True\")\n",
    "            \n",
    "\n",
    "            \n",
    "        r = prev_radius\n",
    "        center = prev_center\n",
    "        a = prev_a\n",
    "        b = prev_b\n",
    "        threshold = prev_threshold\n",
    "\n",
    "\n",
    "    else:\n",
    "        print(i, \"Else statement\")\n",
    "        prev_radius = r\n",
    "        prev_center = center\n",
    "        prev_a = a\n",
    "        prev_b = b\n",
    "        prev_threshold = threshold\n",
    "    \n",
    "\n",
    "    radius_data.append(r)\n",
    "    with warnings.catch_warnings():\n",
    "        warnings.simplefilter(\"ignore\")\n",
    "        save_image(original_img,center,r,a,b,phi,output_frame.format(i)) \n",
    "        \n",
    "export_to_csv(radius_data)"
   ]
  },
  {
   "cell_type": "raw",
   "metadata": {},
   "source": []
  },
  {
   "cell_type": "raw",
   "metadata": {
    "collapsed": true
   },
   "source": []
  },
  {
   "cell_type": "code",
   "execution_count": null,
   "metadata": {
    "collapsed": true
   },
   "outputs": [],
   "source": []
  },
  {
   "cell_type": "code",
   "execution_count": null,
   "metadata": {
    "collapsed": true
   },
   "outputs": [],
   "source": []
  },
  {
   "cell_type": "code",
   "execution_count": null,
   "metadata": {
    "collapsed": true
   },
   "outputs": [],
   "source": []
  },
  {
   "cell_type": "code",
   "execution_count": null,
   "metadata": {
    "collapsed": true
   },
   "outputs": [],
   "source": []
  }
 ],
 "metadata": {
  "kernelspec": {
   "display_name": "Python 3",
   "language": "python",
   "name": "python3"
  },
  "language_info": {
   "codemirror_mode": {
    "name": "ipython",
    "version": 3
   },
   "file_extension": ".py",
   "mimetype": "text/x-python",
   "name": "python",
   "nbconvert_exporter": "python",
   "pygments_lexer": "ipython3",
   "version": "3.5.3"
  }
 },
 "nbformat": 4,
 "nbformat_minor": 2
}
